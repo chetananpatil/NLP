{
 "cells": [
  {
   "cell_type": "code",
   "execution_count": 1,
   "id": "807419c7",
   "metadata": {},
   "outputs": [],
   "source": [
    "import re\n",
    "import pandas as pd\n",
    "import numpy as np\n",
    "import matplotlib.pyplot as plt\n",
    "plt.style.use(style = 'seaborn')\n",
    "from sklearn.model_selection import train_test_split"
   ]
  },
  {
   "cell_type": "code",
   "execution_count": 2,
   "id": "ed2d8335",
   "metadata": {},
   "outputs": [
    {
     "name": "stdout",
     "output_type": "stream",
     "text": [
      "1:  ['in', 'in', 'in']\n"
     ]
    }
   ],
   "source": [
    "txt = 'Use of python in Machine Learning'\n",
    "x = re.findall('in', txt)\n",
    "print('1: ', x)\n"
   ]
  },
  {
   "cell_type": "code",
   "execution_count": 3,
   "id": "969693c1",
   "metadata": {},
   "outputs": [
    {
     "name": "stdout",
     "output_type": "stream",
     "text": [
      "2: The first white space character is located in the position:  6\n"
     ]
    }
   ],
   "source": [
    "txt = 'Python is one of the most popular languages around the world'\n",
    "searchObj = re.search('\\s', txt)\n",
    "print('2: The first white space character is located in the position: ', searchObj.start())"
   ]
  },
  {
   "cell_type": "code",
   "execution_count": 5,
   "id": "6a5189dc",
   "metadata": {},
   "outputs": [
    {
     "name": "stdout",
     "output_type": "stream",
     "text": [
      "3:  ['Python', 'is', 'one', 'of', 'the', 'most', 'popular', 'languages', 'around', 'the', 'world']\n"
     ]
    }
   ],
   "source": [
    "string = \"Python is one of the most popular languages around the world\"\n",
    "searchObj=re.split(\"\\s\",string)\n",
    "print(\"3: \",searchObj)"
   ]
  },
  {
   "cell_type": "code",
   "execution_count": 6,
   "id": "ca44eb2e",
   "metadata": {},
   "outputs": [
    {
     "name": "stdout",
     "output_type": "stream",
     "text": [
      "4:  Python_is_one_of_the_most_popular_languages_around_the_world\n"
     ]
    }
   ],
   "source": [
    "string = 'Python is one of the most popular languages around the world'\n",
    "searchObj = re.sub('\\s', '_', string)\n",
    "print('4: ', searchObj)"
   ]
  },
  {
   "cell_type": "code",
   "execution_count": 7,
   "id": "4473da4b",
   "metadata": {},
   "outputs": [
    {
     "name": "stdout",
     "output_type": "stream",
     "text": [
      "5:  <re.Match object; span=(0, 6), match='Python'>\n"
     ]
    }
   ],
   "source": [
    "string = 'Python is one of the most popular languages around the world'\n",
    "searchObj = re.search(r'\\bP\\w+', string)\n",
    "print('5: ', searchObj)"
   ]
  },
  {
   "cell_type": "code",
   "execution_count": 8,
   "id": "3356ceb8",
   "metadata": {},
   "outputs": [
    {
     "name": "stdout",
     "output_type": "stream",
     "text": [
      "6:  ['h', 'e', 'a', 'i', 'i', 'a', 'i']\n"
     ]
    }
   ],
   "source": [
    "txt = 'The rain in Spain'\n",
    "x = re.findall('[a-m]', txt)\n",
    "print('6: ', x)\n"
   ]
  },
  {
   "cell_type": "code",
   "execution_count": 9,
   "id": "96ee6ee2",
   "metadata": {},
   "outputs": [
    {
     "name": "stdout",
     "output_type": "stream",
     "text": [
      "7:  ['hello wo']\n"
     ]
    }
   ],
   "source": [
    "txt = 'hello world'\n",
    "x = re.findall('he.*o', txt)\n",
    "print('7: ', x)"
   ]
  },
  {
   "cell_type": "code",
   "execution_count": 10,
   "id": "33e8c5c9",
   "metadata": {},
   "outputs": [
    {
     "name": "stdout",
     "output_type": "stream",
     "text": [
      "Minimum edit distance(recursive approach):  4\n"
     ]
    }
   ],
   "source": [
    "def editDistance(str1, str2, m, n):\n",
    "  if m == 0:\n",
    "    return n\n",
    "  if n == 0:\n",
    "    return m\n",
    "  if str1[m - 1] == str2[n - 1]:\n",
    "    return editDistance(str1, str2, m - 1, n - 1)\n",
    "  return 1 + min(editDistance(str1, str2, m, n - 1), editDistance(str1, str2, m - 1, n), 1 + editDistance(str1, str2, m - 1, n - 1))\n",
    "\n",
    "str1 = 'horse'\n",
    "str2 = 'ros'\n",
    "print('Minimum edit distance(recursive approach): ', editDistance(str1, str2, len(str1), len(str2)))"
   ]
  },
  {
   "cell_type": "code",
   "execution_count": 11,
   "id": "e44d72de",
   "metadata": {},
   "outputs": [
    {
     "name": "stdout",
     "output_type": "stream",
     "text": [
      "Minimum edit distance(dynamic programming approach):  1\n"
     ]
    }
   ],
   "source": [
    "def editDistance(str1, str2):\n",
    "  len1 = len(str1)\n",
    "  len2 = len(str2)\n",
    "  dp = [[-1] * (len1 + 1) for i in range(len2 + 1)]\n",
    "  for i in range(len1 + 1):\n",
    "    dp[0][1] = i\n",
    "  for i in range(len2 + 1):\n",
    "    dp[i][0] = i\n",
    "  for j in range(1, len2 + 1):\n",
    "    for i in range(1, len1 + 1):\n",
    "      if str1[i - 1] == str2[j - 1]:\n",
    "        dp[j][i] = dp[j - 1][i - 1]\n",
    "      else:\n",
    "        insert = 1 + dp[j - 1][i]\n",
    "        delete = 1 + dp[j][i - 1]\n",
    "        replace = 2 + dp[j - 1][i - 1]\n",
    "        dp[j][i] = min(insert, delete, replace)\n",
    "  return dp[-1][-1]\n",
    "\n",
    "str1 = 'horse'\n",
    "str2 = 'ros'\n",
    "print('Minimum edit distance(dynamic programming approach): ', editDistance(str1, str2))"
   ]
  },
  {
   "cell_type": "code",
   "execution_count": 12,
   "id": "84eb4069",
   "metadata": {},
   "outputs": [
    {
     "data": {
      "text/html": [
       "<div>\n",
       "<style scoped>\n",
       "    .dataframe tbody tr th:only-of-type {\n",
       "        vertical-align: middle;\n",
       "    }\n",
       "\n",
       "    .dataframe tbody tr th {\n",
       "        vertical-align: top;\n",
       "    }\n",
       "\n",
       "    .dataframe thead th {\n",
       "        text-align: right;\n",
       "    }\n",
       "</style>\n",
       "<table border=\"1\" class=\"dataframe\">\n",
       "  <thead>\n",
       "    <tr style=\"text-align: right;\">\n",
       "      <th></th>\n",
       "      <th>sentiment</th>\n",
       "      <th>news</th>\n",
       "    </tr>\n",
       "  </thead>\n",
       "  <tbody>\n",
       "    <tr>\n",
       "      <th>0</th>\n",
       "      <td>neutral</td>\n",
       "      <td>Technopolis plans to develop in stages an area...</td>\n",
       "    </tr>\n",
       "    <tr>\n",
       "      <th>1</th>\n",
       "      <td>negative</td>\n",
       "      <td>The international electronic industry company ...</td>\n",
       "    </tr>\n",
       "    <tr>\n",
       "      <th>2</th>\n",
       "      <td>positive</td>\n",
       "      <td>With the new production plant the company woul...</td>\n",
       "    </tr>\n",
       "    <tr>\n",
       "      <th>3</th>\n",
       "      <td>positive</td>\n",
       "      <td>According to the company 's updated strategy f...</td>\n",
       "    </tr>\n",
       "    <tr>\n",
       "      <th>4</th>\n",
       "      <td>positive</td>\n",
       "      <td>FINANCING OF ASPOCOMP 'S GROWTH Aspocomp is ag...</td>\n",
       "    </tr>\n",
       "  </tbody>\n",
       "</table>\n",
       "</div>"
      ],
      "text/plain": [
       "  sentiment                                               news\n",
       "0   neutral  Technopolis plans to develop in stages an area...\n",
       "1  negative  The international electronic industry company ...\n",
       "2  positive  With the new production plant the company woul...\n",
       "3  positive  According to the company 's updated strategy f...\n",
       "4  positive  FINANCING OF ASPOCOMP 'S GROWTH Aspocomp is ag..."
      ]
     },
     "execution_count": 12,
     "metadata": {},
     "output_type": "execute_result"
    }
   ],
   "source": [
    "df = pd.read_csv('all-data.csv', encoding = 'ISO-8859-1')\n",
    "df.columns = ['sentiment', 'news']\n",
    "df.head()"
   ]
  },
  {
   "cell_type": "code",
   "execution_count": 13,
   "id": "7493f138",
   "metadata": {},
   "outputs": [
    {
     "name": "stdout",
     "output_type": "stream",
     "text": [
      "<class 'pandas.core.frame.DataFrame'>\n",
      "RangeIndex: 4845 entries, 0 to 4844\n",
      "Data columns (total 2 columns):\n",
      " #   Column     Non-Null Count  Dtype \n",
      "---  ------     --------------  ----- \n",
      " 0   sentiment  4845 non-null   object\n",
      " 1   news       4845 non-null   object\n",
      "dtypes: object(2)\n",
      "memory usage: 75.8+ KB\n"
     ]
    }
   ],
   "source": [
    "df.info()"
   ]
  },
  {
   "cell_type": "code",
   "execution_count": 14,
   "id": "c7d96713",
   "metadata": {},
   "outputs": [
    {
     "data": {
      "text/plain": [
       "sentiment    4845\n",
       "news         4845\n",
       "dtype: int64"
      ]
     },
     "execution_count": 14,
     "metadata": {},
     "output_type": "execute_result"
    }
   ],
   "source": [
    "df[df['sentiment'].isna() == False].count()"
   ]
  },
  {
   "cell_type": "code",
   "execution_count": 15,
   "id": "e7db82e4",
   "metadata": {},
   "outputs": [
    {
     "data": {
      "text/plain": [
       "neutral     2878\n",
       "positive    1363\n",
       "negative     604\n",
       "Name: sentiment, dtype: int64"
      ]
     },
     "execution_count": 15,
     "metadata": {},
     "output_type": "execute_result"
    }
   ],
   "source": [
    "df['sentiment'].value_counts()"
   ]
  },
  {
   "cell_type": "code",
   "execution_count": 16,
   "id": "f6d9c46a",
   "metadata": {},
   "outputs": [
    {
     "data": {
      "text/plain": [
       "(4845,)"
      ]
     },
     "execution_count": 16,
     "metadata": {},
     "output_type": "execute_result"
    }
   ],
   "source": [
    "y = df['sentiment'].values\n",
    "y.shape"
   ]
  },
  {
   "cell_type": "code",
   "execution_count": 17,
   "id": "cebad5d6",
   "metadata": {},
   "outputs": [
    {
     "data": {
      "text/plain": [
       "array(['neutral', 'negative', 'positive', ..., 'negative', 'negative',\n",
       "       'negative'], dtype=object)"
      ]
     },
     "execution_count": 17,
     "metadata": {},
     "output_type": "execute_result"
    }
   ],
   "source": [
    "y"
   ]
  },
  {
   "cell_type": "code",
   "execution_count": 18,
   "id": "224f39f3",
   "metadata": {},
   "outputs": [
    {
     "data": {
      "text/plain": [
       "(4845,)"
      ]
     },
     "execution_count": 18,
     "metadata": {},
     "output_type": "execute_result"
    }
   ],
   "source": [
    "x = df['news'].values\n",
    "x.shape"
   ]
  },
  {
   "cell_type": "code",
   "execution_count": 19,
   "id": "e22640e8",
   "metadata": {},
   "outputs": [
    {
     "name": "stdout",
     "output_type": "stream",
     "text": [
      "(2907,)\n",
      "(1938,)\n",
      "(2907,)\n",
      "(1938,)\n"
     ]
    }
   ],
   "source": [
    "(x_train, x_test, y_train, y_test) = train_test_split(x, y, test_size = 0.4)\n",
    "print(x_train.shape)\n",
    "print(x_test.shape)\n",
    "print(y_train.shape)\n",
    "print(y_test.shape)"
   ]
  },
  {
   "cell_type": "code",
   "execution_count": 20,
   "id": "42fc805a",
   "metadata": {},
   "outputs": [],
   "source": [
    "df1 = pd.DataFrame(x_train)\n",
    "df1 = df1.rename(columns = {0: 'news'})"
   ]
  },
  {
   "cell_type": "code",
   "execution_count": 21,
   "id": "626a422b",
   "metadata": {},
   "outputs": [],
   "source": [
    "df2 = pd.DataFrame(y_train)\n",
    "df2 = df2.rename(columns = {0: 'sentiment'})\n",
    "df_train = pd.concat([df1, df2], axis = 1)"
   ]
  },
  {
   "cell_type": "code",
   "execution_count": 22,
   "id": "fe391b13",
   "metadata": {},
   "outputs": [],
   "source": [
    "df3 = pd.DataFrame(x_test)\n",
    "df3 = df3.rename(columns = {0: 'news'})"
   ]
  },
  {
   "cell_type": "code",
   "execution_count": 23,
   "id": "e1c9474f",
   "metadata": {},
   "outputs": [],
   "source": [
    "df4 = pd.DataFrame(y_test)\n",
    "df4 = df4.rename(columns = {0: 'sentiment'})\n",
    "df_test = pd.concat([df3, df4], axis = 1)"
   ]
  },
  {
   "cell_type": "code",
   "execution_count": 24,
   "id": "ec505910",
   "metadata": {},
   "outputs": [
    {
     "data": {
      "text/plain": [
       "'!\"#$%&\\'()*+,-./:;<=>?@[\\\\]^_`{|}~'"
      ]
     },
     "execution_count": 24,
     "metadata": {},
     "output_type": "execute_result"
    }
   ],
   "source": [
    "import string\n",
    "string.punctuation"
   ]
  },
  {
   "cell_type": "code",
   "execution_count": 25,
   "id": "4826e945",
   "metadata": {},
   "outputs": [],
   "source": [
    "def remove_punctuation(text):\n",
    "  if(type(text) == float):\n",
    "    return text\n",
    "  ans = ''\n",
    "  for i in text:\n",
    "    if i not in string.punctuation:\n",
    "      ans = ans + i\n",
    "  return ans"
   ]
  },
  {
   "cell_type": "code",
   "execution_count": 26,
   "id": "2e885f07",
   "metadata": {},
   "outputs": [],
   "source": [
    "df_train['news'] = df_train['news'].apply(lambda x: remove_punctuation(x))\n",
    "df_test['news'] = df_test['news'].apply(lambda x: remove_punctuation(x))"
   ]
  },
  {
   "cell_type": "code",
   "execution_count": null,
   "id": "490ceb23",
   "metadata": {},
   "outputs": [],
   "source": [
    "df_train.head()"
   ]
  }
 ],
 "metadata": {
  "kernelspec": {
   "display_name": "Python 3 (ipykernel)",
   "language": "python",
   "name": "python3"
  },
  "language_info": {
   "codemirror_mode": {
    "name": "ipython",
    "version": 3
   },
   "file_extension": ".py",
   "mimetype": "text/x-python",
   "name": "python",
   "nbconvert_exporter": "python",
   "pygments_lexer": "ipython3",
   "version": "3.9.7"
  }
 },
 "nbformat": 4,
 "nbformat_minor": 5
}
